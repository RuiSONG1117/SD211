{
 "cells": [
  {
   "cell_type": "markdown",
   "metadata": {},
   "source": [
    "# SD211 TP - Régression logistique\n",
    "\n",
    "<p>Autheur: Rui SONG</p>\n",
    "<p>Date : 12 mai 2017</p>"
   ]
  },
  {
   "cell_type": "markdown",
   "metadata": {},
   "source": [
    "## Imports et initialisations"
   ]
  },
  {
   "cell_type": "code",
   "execution_count": 115,
   "metadata": {
    "collapsed": true
   },
   "outputs": [],
   "source": [
    "import numpy as np\n",
    "from scipy.optimize import check_grad\n",
    "import scipy\n",
    "import matplotlib.pyplot as plt\n",
    "import time\n",
    "from sklearn.metrics import classification_report"
   ]
  },
  {
   "cell_type": "markdown",
   "metadata": {},
   "source": [
    "## 1. Régularisation de Tikhonov"
   ]
  },
  {
   "cell_type": "markdown",
   "metadata": {},
   "source": [
    "### Question 1.1 Calcul du gradient et de la matrice hessienne"
   ]
  },
  {
   "cell_type": "markdown",
   "metadata": {},
   "source": [
    "<p>La fonction d'objectif est: \n",
    "$$f_{1}(w_{0}, \\mathbf{w)} = \\frac{1}{n}\\sum_{i=1}^{n}log(1 + exp(-y_{i}(\\mathbf{x_{i}}^{T}\\mathbf{w} + w_{0}))) + \\frac{\\rho}{2}\\lVert\\mathbf{w}\\rVert_{2}^{2}$$</p>\n",
    "\n",
    "<p>Notons $\\widetilde{\\mathbf{w}} = (w_{0},w^T)^{T}$ , $\\tilde{\\mathbf{x_{i}}} = (1, \\mathbf{x_{i}}^{T})^{T}$, et une matrice diagonale de taile $(m+1)\\times(m+1)$ :\n",
    "$$M = \\begin{pmatrix}\n",
    "0&0&\\cdots&0\\\\\n",
    "0&1&\\ddots&\\vdots\\\\\n",
    "\\vdots&\\ddots&\\ddots&0&\\\\\n",
    "0&\\cdots&0&1\n",
    "\\end{pmatrix}$$\n",
    "alors la fonctino d'objectif devient:\n",
    "\n",
    "$$f_{1}(\\widetilde{\\mathbf{w}}) = \\frac{1}{n}\\sum_{i=1}^{n}log(1 + exp(-y_{i}\\tilde{\\mathbf{x_{i}}}^{T}\\widetilde{\\mathbf{w}})) + \\frac{\\rho}{2}\\lVert M\\widetilde{\\mathbf{w}}\\rVert_{2}^{2}$$</p>\n",
    "\n",
    "<p>Alors, on a le gradient de $f_{1}:$\n",
    "\n",
    "$$\\bigtriangledown f_{1} = \\frac{1}{n}\\sum_{i=1}^{n}\\frac{-y_{i}\\tilde{\\mathbf{x_{i}}}}{1 + exp(y_{i}\\tilde{\\mathbf{x_{i}}}\\widetilde{\\mathbf{w}})} + \\rho M\\widetilde{\\mathbf{w}}$$</p>\n",
    "\n",
    "<p>La matrice hessienne de la fonction d'objectif est:\n",
    "\n",
    "$$H(\\widetilde{\\mathbf{w}}) = \\frac{1}{n}\\sum_{i=1}^{n}\\frac{y_{i}^{2}exp(y_{i}\\tilde{\\mathbf{x_{i}}}\\widetilde{\\mathbf{w}})}{[1 + exp(y_{i}\\tilde{\\mathbf{x_{i}}}\\widetilde{\\mathbf{w}})]^{2}}\\cdot \\tilde{\\mathbf{x_{i}}}\\tilde{\\mathbf{x_{i}}}^{T} + \\rho M$$ \n",
    "</p>\n",
    "<p>La matrice hessienne est définie positive, donc la fonction d'objectif est convexe.</p>"
   ]
  },
  {
   "cell_type": "markdown",
   "metadata": {},
   "source": [
    "### Question 1.2"
   ]
  },
  {
   "cell_type": "code",
   "execution_count": 2,
   "metadata": {
    "collapsed": false
   },
   "outputs": [
    {
     "name": "stdout",
     "output_type": "stream",
     "text": [
      "Data loading...\n",
      "(210, 26) (210,)\n"
     ]
    }
   ],
   "source": [
    "def load_cervical_cancer(filename):\n",
    "    \"\"\"\n",
    "    Cette fonction lit le fichier filename, par exemple\n",
    "    filename = 'riskfactorscervicalcancer.csv'\n",
    "    Elle retourne \n",
    "    X : une matrice de caracteristiques\n",
    "    y : un vecteur des classes tel que si y[i] = 1, \n",
    "        il y a un fort risque de cancer du col de l'uterus, \n",
    "        et si y[i] = -1, les tests sont negatifs\n",
    "\n",
    "    Pour plus d'infos sur la base de donnees,\n",
    "    http://archive.ics.uci.edu/ml/datasets/Cervical+cancer+%28Risk+Factors%29#\n",
    "    \"\"\"\n",
    "\n",
    "    data = np.loadtxt(filename, delimiter=',', skiprows=1)\n",
    "\n",
    "    # predire si un des tests est positif\n",
    "    y = np.max(data[:, -4:], axis=1) * 2 - 1\n",
    "    # reequilibrer la base de donnees \n",
    "    pos_indices = np.where(y > 0)[0]\n",
    "    neg_indices = np.where(y < 0)[0]\n",
    "    indices = pos_indices.tolist() + neg_indices[1::7].tolist()\n",
    "\n",
    "    y = y[indices]\n",
    "    X = data[indices, :-4]\n",
    "\n",
    "    # Standardisation de la matrice\n",
    "    X = X - np.mean(X, axis=0)\n",
    "    std_ = np.std(X, axis=0)\n",
    "    X = X[:, std_ > 0]\n",
    "    std_ = std_[std_ > 0]\n",
    "    X = X / std_\n",
    "\n",
    "    return X, y\n",
    "\n",
    "print \"Data loading...\"\n",
    "X, y = load_cervical_cancer(\"riskfactorscervicalcancer.csv\")\n",
    "print X.shape, y.shape"
   ]
  },
  {
   "cell_type": "code",
   "execution_count": 3,
   "metadata": {
    "collapsed": false
   },
   "outputs": [],
   "source": [
    "n, m = X.shape\n",
    "rho = 1.0/n"
   ]
  },
  {
   "cell_type": "code",
   "execution_count": 4,
   "metadata": {
    "collapsed": false
   },
   "outputs": [
    {
     "name": "stdout",
     "output_type": "stream",
     "text": [
      "Checking the correctness of gradient...\n",
      "5.89146026209e-07\n",
      "Checking the correctness of hessian matrice...\n",
      "7.67679640751e-07\n",
      "(27,)\n"
     ]
    }
   ],
   "source": [
    "ones = np.ones((n))\n",
    "X_ = np.column_stack((ones, X))\n",
    "#print X_[1, :].shape\n",
    "\n",
    "def objective_total(omega, X, y, rho):\n",
    "    omega = omega.reshape(-1)\n",
    "    n, m = X.shape\n",
    "    M = np.diag(np.ones(m))\n",
    "    M[0,0] = 0\n",
    "    \n",
    "    val = 0\n",
    "    grad = np.zeros_like(omega)\n",
    "    hessienne = np.zeros((m, m))\n",
    "    for i in range(n):\n",
    "        xi = X[i,:]\n",
    "        yi = y[i]\n",
    "        xomega = xi.dot(omega)\n",
    "        log = np.log(1 + np.exp(-yi*xomega))\n",
    "        val = val + log\n",
    "        exp = np.exp(yi*xomega)\n",
    "        coef = -yi / (1 + exp)\n",
    "        grad = grad + coef * xi\n",
    "        coefH = -coef*yi*exp / (1 + exp)\n",
    "        xi_ = xi.reshape(m,-1)\n",
    "        hessienne = hessienne + coefH*xi_.dot(xi_.T)\n",
    "    val = val/n + rho*(np.sum(omega[1:] ** 2))/2\n",
    "    grad = grad/n + rho*M.dot(omega)\n",
    "    hessienne = hessienne/n + rho*M\n",
    "    return val, grad, hessienne\n",
    "\n",
    "def func(omega, X, y, rho):\n",
    "    val, grad, hessienne = objective_total(omega, X, y, rho)\n",
    "    return val\n",
    "\n",
    "def grad(omega, X, y, rho):\n",
    "    val, grad, hessienne = objective_total(omega, X, y, rho)\n",
    "    return grad\n",
    "\n",
    "def grad_func(omega, X, y, rho):\n",
    "    val, grad, hessienne = objective_total(omega, X, y, rho)\n",
    "    return grad.sum()\n",
    "\n",
    "def hess(omega, X, y, rho):\n",
    "    val, grad, hessienne = objective_total(omega, X, y, rho)\n",
    "    return np.sum(hessienne, axis = 1)\n",
    "\n",
    "print \"Checking the correctness of gradient...\"\n",
    "print check_grad(func, grad, np.zeros_like(X_[1, :]),X_,y,rho)\n",
    "print \"Checking the correctness of hessian matrice...\"\n",
    "print check_grad(grad_func, hess, np.zeros_like(X_[1, :]),X_,y,rho)\n",
    "\n",
    "print grad(np.zeros_like(X_[1, :]),X_,y,rho).shape"
   ]
  },
  {
   "cell_type": "markdown",
   "metadata": {
    "collapsed": false
   },
   "source": [
    "### Question 1.3  Méthode de Newton"
   ]
  },
  {
   "cell_type": "markdown",
   "metadata": {},
   "source": [
    "Pour l'itération $k$, le mis-à-jour de $\\widetilde{\\mathbf{w}}_{k}$ est:\n",
    "$$\\widetilde{\\mathbf{w}}_{k} = \\widetilde{\\mathbf{w}}_{k-1} - H(\\widetilde{\\mathbf{w}})^{-1}\\bigtriangledown f_{1}$$"
   ]
  },
  {
   "cell_type": "code",
   "execution_count": 5,
   "metadata": {
    "collapsed": false
   },
   "outputs": [
    {
     "name": "stdout",
     "output_type": "stream",
     "text": [
      "The value of the objective function is 0.564491\n"
     ]
    }
   ],
   "source": [
    "def Newton(g, omega0, X, y, rho, tolerance = 1e-10):\n",
    "    val, grad, hessienne = g(omega0, X, y, rho)\n",
    "    norm = np.sqrt(np.sum(grad[1:] ** 2))\n",
    "    grad_norm = [norm]\n",
    "    k = 0\n",
    "    while(norm > tolerance):\n",
    "        omega0 = omega0 - scipy.linalg.solve(hessienne, grad)\n",
    "        val, grad, hessienne = g(omega0, X, y, rho)\n",
    "        norm = np.sqrt(np.sum(grad[1:] ** 2))\n",
    "        grad_norm.append(norm)\n",
    "        k = k + 1\n",
    "    return val, grad_norm, omega0, k\n",
    "\n",
    "val, grad_norm, sol, k = Newton(objective_total, np.zeros_like(X_[1, :]), X_, y, rho, 1e-10)\n",
    "print \"The value of the objective function is %f\" %val"
   ]
  },
  {
   "cell_type": "code",
   "execution_count": 6,
   "metadata": {
    "collapsed": false
   },
   "outputs": [
    {
     "data": {
      "image/png": "[encoded data removed]",
      "text/plain": [
       "<matplotlib.figure.Figure at 0x1149465d0>"
      ]
     },
     "metadata": {},
     "output_type": "display_data"
    }
   ],
   "source": [
    "fig = plt.figure(1)\n",
    "plt.semilogy(grad_norm)\n",
    "plt.show()"
   ]
  },
  {
   "cell_type": "markdown",
   "metadata": {
    "collapsed": true
   },
   "source": [
    "### Question 1.4"
   ]
  },
  {
   "cell_type": "code",
   "execution_count": 7,
   "metadata": {
    "collapsed": false
   },
   "outputs": [
    {
     "name": "stderr",
     "output_type": "stream",
     "text": [
      "/Users/rui/anaconda/lib/python2.7/site-packages/ipykernel/__main__.py:20: RuntimeWarning: overflow encountered in exp\n",
      "/Users/rui/anaconda/lib/python2.7/site-packages/ipykernel/__main__.py:23: RuntimeWarning: invalid value encountered in double_scalars\n",
      "/Users/rui/anaconda/lib/python2.7/site-packages/ipykernel/__main__.py:18: RuntimeWarning: overflow encountered in exp\n"
     ]
    },
    {
     "ename": "ValueError",
     "evalue": "array must not contain infs or NaNs",
     "output_type": "error",
     "traceback": [
      "\u001b[0;31m---------------------------------------------------------------------------\u001b[0m",
      "\u001b[0;31mValueError\u001b[0m                                Traceback (most recent call last)",
      "\u001b[0;32m<ipython-input-7-ec971f7f27ab>\u001b[0m in \u001b[0;36m<module>\u001b[0;34m()\u001b[0m\n\u001b[0;32m----> 1\u001b[0;31m \u001b[0mval\u001b[0m\u001b[0;34m,\u001b[0m \u001b[0mgrad_norm\u001b[0m\u001b[0;34m,\u001b[0m \u001b[0msol\u001b[0m\u001b[0;34m,\u001b[0m \u001b[0mk\u001b[0m \u001b[0;34m=\u001b[0m \u001b[0mNewton\u001b[0m\u001b[0;34m(\u001b[0m\u001b[0mobjective_total\u001b[0m\u001b[0;34m,\u001b[0m \u001b[0;36m0.3\u001b[0m\u001b[0;34m*\u001b[0m\u001b[0mnp\u001b[0m\u001b[0;34m.\u001b[0m\u001b[0mones_like\u001b[0m\u001b[0;34m(\u001b[0m\u001b[0mX_\u001b[0m\u001b[0;34m[\u001b[0m\u001b[0;36m1\u001b[0m\u001b[0;34m,\u001b[0m \u001b[0;34m:\u001b[0m\u001b[0;34m]\u001b[0m\u001b[0;34m)\u001b[0m\u001b[0;34m,\u001b[0m \u001b[0mX_\u001b[0m\u001b[0;34m,\u001b[0m \u001b[0my\u001b[0m\u001b[0;34m,\u001b[0m \u001b[0mrho\u001b[0m\u001b[0;34m,\u001b[0m \u001b[0;36m1e-10\u001b[0m\u001b[0;34m)\u001b[0m\u001b[0;34m\u001b[0m\u001b[0m\n\u001b[0m",
      "\u001b[0;32m<ipython-input-5-383c11ca4707>\u001b[0m in \u001b[0;36mNewton\u001b[0;34m(g, omega0, X, y, rho, tolerance)\u001b[0m\n\u001b[1;32m      5\u001b[0m     \u001b[0mk\u001b[0m \u001b[0;34m=\u001b[0m \u001b[0;36m0\u001b[0m\u001b[0;34m\u001b[0m\u001b[0m\n\u001b[1;32m      6\u001b[0m     \u001b[0;32mwhile\u001b[0m\u001b[0;34m(\u001b[0m\u001b[0mnorm\u001b[0m \u001b[0;34m>\u001b[0m \u001b[0mtolerance\u001b[0m\u001b[0;34m)\u001b[0m\u001b[0;34m:\u001b[0m\u001b[0;34m\u001b[0m\u001b[0m\n\u001b[0;32m----> 7\u001b[0;31m         \u001b[0momega0\u001b[0m \u001b[0;34m=\u001b[0m \u001b[0momega0\u001b[0m \u001b[0;34m-\u001b[0m \u001b[0mscipy\u001b[0m\u001b[0;34m.\u001b[0m\u001b[0mlinalg\u001b[0m\u001b[0;34m.\u001b[0m\u001b[0msolve\u001b[0m\u001b[0;34m(\u001b[0m\u001b[0mhessienne\u001b[0m\u001b[0;34m,\u001b[0m \u001b[0mgrad\u001b[0m\u001b[0;34m)\u001b[0m\u001b[0;34m\u001b[0m\u001b[0m\n\u001b[0m\u001b[1;32m      8\u001b[0m         \u001b[0mval\u001b[0m\u001b[0;34m,\u001b[0m \u001b[0mgrad\u001b[0m\u001b[0;34m,\u001b[0m \u001b[0mhessienne\u001b[0m \u001b[0;34m=\u001b[0m \u001b[0mg\u001b[0m\u001b[0;34m(\u001b[0m\u001b[0momega0\u001b[0m\u001b[0;34m,\u001b[0m \u001b[0mX\u001b[0m\u001b[0;34m,\u001b[0m \u001b[0my\u001b[0m\u001b[0;34m,\u001b[0m \u001b[0mrho\u001b[0m\u001b[0;34m)\u001b[0m\u001b[0;34m\u001b[0m\u001b[0m\n\u001b[1;32m      9\u001b[0m         \u001b[0mnorm\u001b[0m \u001b[0;34m=\u001b[0m \u001b[0mnp\u001b[0m\u001b[0;34m.\u001b[0m\u001b[0msqrt\u001b[0m\u001b[0;34m(\u001b[0m\u001b[0mnp\u001b[0m\u001b[0;34m.\u001b[0m\u001b[0msum\u001b[0m\u001b[0;34m(\u001b[0m\u001b[0mgrad\u001b[0m\u001b[0;34m[\u001b[0m\u001b[0;36m1\u001b[0m\u001b[0;34m:\u001b[0m\u001b[0;34m]\u001b[0m \u001b[0;34m**\u001b[0m \u001b[0;36m2\u001b[0m\u001b[0;34m)\u001b[0m\u001b[0;34m)\u001b[0m\u001b[0;34m\u001b[0m\u001b[0m\n",
      "\u001b[0;32m/Users/rui/anaconda/lib/python2.7/site-packages/scipy/linalg/basic.pyc\u001b[0m in \u001b[0;36msolve\u001b[0;34m(a, b, sym_pos, lower, overwrite_a, overwrite_b, debug, check_finite)\u001b[0m\n\u001b[1;32m     77\u001b[0m \u001b[0;34m\u001b[0m\u001b[0m\n\u001b[1;32m     78\u001b[0m     \"\"\"\n\u001b[0;32m---> 79\u001b[0;31m     \u001b[0ma1\u001b[0m \u001b[0;34m=\u001b[0m \u001b[0m_asarray_validated\u001b[0m\u001b[0;34m(\u001b[0m\u001b[0ma\u001b[0m\u001b[0;34m,\u001b[0m \u001b[0mcheck_finite\u001b[0m\u001b[0;34m=\u001b[0m\u001b[0mcheck_finite\u001b[0m\u001b[0;34m)\u001b[0m\u001b[0;34m\u001b[0m\u001b[0m\n\u001b[0m\u001b[1;32m     80\u001b[0m     \u001b[0mb1\u001b[0m \u001b[0;34m=\u001b[0m \u001b[0m_asarray_validated\u001b[0m\u001b[0;34m(\u001b[0m\u001b[0mb\u001b[0m\u001b[0;34m,\u001b[0m \u001b[0mcheck_finite\u001b[0m\u001b[0;34m=\u001b[0m\u001b[0mcheck_finite\u001b[0m\u001b[0;34m)\u001b[0m\u001b[0;34m\u001b[0m\u001b[0m\n\u001b[1;32m     81\u001b[0m     \u001b[0;32mif\u001b[0m \u001b[0mlen\u001b[0m\u001b[0;34m(\u001b[0m\u001b[0ma1\u001b[0m\u001b[0;34m.\u001b[0m\u001b[0mshape\u001b[0m\u001b[0;34m)\u001b[0m \u001b[0;34m!=\u001b[0m \u001b[0;36m2\u001b[0m \u001b[0;32mor\u001b[0m \u001b[0ma1\u001b[0m\u001b[0;34m.\u001b[0m\u001b[0mshape\u001b[0m\u001b[0;34m[\u001b[0m\u001b[0;36m0\u001b[0m\u001b[0;34m]\u001b[0m \u001b[0;34m!=\u001b[0m \u001b[0ma1\u001b[0m\u001b[0;34m.\u001b[0m\u001b[0mshape\u001b[0m\u001b[0;34m[\u001b[0m\u001b[0;36m1\u001b[0m\u001b[0;34m]\u001b[0m\u001b[0;34m:\u001b[0m\u001b[0;34m\u001b[0m\u001b[0m\n",
      "\u001b[0;32m/Users/rui/anaconda/lib/python2.7/site-packages/scipy/_lib/_util.pyc\u001b[0m in \u001b[0;36m_asarray_validated\u001b[0;34m(a, check_finite, sparse_ok, objects_ok, mask_ok, as_inexact)\u001b[0m\n\u001b[1;32m    226\u001b[0m             \u001b[0;32mraise\u001b[0m \u001b[0mValueError\u001b[0m\u001b[0;34m(\u001b[0m\u001b[0;34m'masked arrays are not supported'\u001b[0m\u001b[0;34m)\u001b[0m\u001b[0;34m\u001b[0m\u001b[0m\n\u001b[1;32m    227\u001b[0m     \u001b[0mtoarray\u001b[0m \u001b[0;34m=\u001b[0m \u001b[0mnp\u001b[0m\u001b[0;34m.\u001b[0m\u001b[0masarray_chkfinite\u001b[0m \u001b[0;32mif\u001b[0m \u001b[0mcheck_finite\u001b[0m \u001b[0;32melse\u001b[0m \u001b[0mnp\u001b[0m\u001b[0;34m.\u001b[0m\u001b[0masarray\u001b[0m\u001b[0;34m\u001b[0m\u001b[0m\n\u001b[0;32m--> 228\u001b[0;31m     \u001b[0ma\u001b[0m \u001b[0;34m=\u001b[0m \u001b[0mtoarray\u001b[0m\u001b[0;34m(\u001b[0m\u001b[0ma\u001b[0m\u001b[0;34m)\u001b[0m\u001b[0;34m\u001b[0m\u001b[0m\n\u001b[0m\u001b[1;32m    229\u001b[0m     \u001b[0;32mif\u001b[0m \u001b[0;32mnot\u001b[0m \u001b[0mobjects_ok\u001b[0m\u001b[0;34m:\u001b[0m\u001b[0;34m\u001b[0m\u001b[0m\n\u001b[1;32m    230\u001b[0m         \u001b[0;32mif\u001b[0m \u001b[0ma\u001b[0m\u001b[0;34m.\u001b[0m\u001b[0mdtype\u001b[0m \u001b[0;32mis\u001b[0m \u001b[0mnp\u001b[0m\u001b[0;34m.\u001b[0m\u001b[0mdtype\u001b[0m\u001b[0;34m(\u001b[0m\u001b[0;34m'O'\u001b[0m\u001b[0;34m)\u001b[0m\u001b[0;34m:\u001b[0m\u001b[0;34m\u001b[0m\u001b[0m\n",
      "\u001b[0;32m/Users/rui/anaconda/lib/python2.7/site-packages/numpy/lib/function_base.pyc\u001b[0m in \u001b[0;36masarray_chkfinite\u001b[0;34m(a, dtype, order)\u001b[0m\n\u001b[1;32m   1031\u001b[0m     \u001b[0;32mif\u001b[0m \u001b[0ma\u001b[0m\u001b[0;34m.\u001b[0m\u001b[0mdtype\u001b[0m\u001b[0;34m.\u001b[0m\u001b[0mchar\u001b[0m \u001b[0;32min\u001b[0m \u001b[0mtypecodes\u001b[0m\u001b[0;34m[\u001b[0m\u001b[0;34m'AllFloat'\u001b[0m\u001b[0;34m]\u001b[0m \u001b[0;32mand\u001b[0m \u001b[0;32mnot\u001b[0m \u001b[0mnp\u001b[0m\u001b[0;34m.\u001b[0m\u001b[0misfinite\u001b[0m\u001b[0;34m(\u001b[0m\u001b[0ma\u001b[0m\u001b[0;34m)\u001b[0m\u001b[0;34m.\u001b[0m\u001b[0mall\u001b[0m\u001b[0;34m(\u001b[0m\u001b[0;34m)\u001b[0m\u001b[0;34m:\u001b[0m\u001b[0;34m\u001b[0m\u001b[0m\n\u001b[1;32m   1032\u001b[0m         raise ValueError(\n\u001b[0;32m-> 1033\u001b[0;31m             \"array must not contain infs or NaNs\")\n\u001b[0m\u001b[1;32m   1034\u001b[0m     \u001b[0;32mreturn\u001b[0m \u001b[0ma\u001b[0m\u001b[0;34m\u001b[0m\u001b[0m\n\u001b[1;32m   1035\u001b[0m \u001b[0;34m\u001b[0m\u001b[0m\n",
      "\u001b[0;31mValueError\u001b[0m: array must not contain infs or NaNs"
     ]
    }
   ],
   "source": [
    "val, grad_norm, sol, k = Newton(objective_total, 0.3*np.ones_like(X_[1, :]), X_, y, rho, 1e-10)"
   ]
  },
  {
   "cell_type": "markdown",
   "metadata": {},
   "source": [
    "En lançant comme la condition initiale $(w_{0}^{0}, \\mathbf{w^{0}}) = 0.3e$, on a rencontré le problème de 'overflow'."
   ]
  },
  {
   "cell_type": "markdown",
   "metadata": {
    "collapsed": true
   },
   "source": [
    "### Question 1.5"
   ]
  },
  {
   "cell_type": "code",
   "execution_count": 123,
   "metadata": {
    "collapsed": false
   },
   "outputs": [
    {
     "name": "stdout",
     "output_type": "stream",
     "text": [
      "0.564490766022\n",
      "[ 0.2013495  -0.17213872 -0.04798368 -0.14852973  0.17226181 -0.00720006\n",
      "  0.20673756 -0.03692106  0.0768277   0.43086559  0.12956021  0.17260728\n",
      "  0.31592059  0.17684201  0.10474188  0.10474188 -0.39105042  0.1639398\n",
      "  0.66262584 -0.33199982  0.64063084 -0.39451384 -0.39515206  0.3884854\n",
      "  0.02848865  0.3884854   0.27776305]\n",
      "Times of iterations: 11\n",
      "Time used : 0.114897\n"
     ]
    }
   ],
   "source": [
    "n, m = X.shape\n",
    "rho = 1.0/n\n",
    "def Newton_armijo(g, omega0, X, y, rho, tolerance = 1e-10, max_iter = 1e2):\n",
    "    a = 0.5\n",
    "    b = 1\n",
    "    beta = 0.5\n",
    "    \n",
    "    val, grad, H = g(omega0, X, y, rho)\n",
    "    dw = np.linalg.solve(H, grad)\n",
    "    norm = np.sqrt(np.sum(grad ** 2))\n",
    "    grad_norm = [norm]\n",
    "    \n",
    "    k = 0\n",
    "    while((norm > tolerance) and (k <= max_iter)):\n",
    "        #print \"val: %f\" %val\n",
    "        gamma = b\n",
    "        omegak = omega0 - gamma*dw\n",
    "        valk, gradk, Hk= g(omegak, X, y, rho)\n",
    "        while(valk > val-beta*gamma*np.sum(grad*dw)):\n",
    "            gamma = gamma * a\n",
    "            omegak = omega0 - gamma*dw\n",
    "            valk, gradk, Hk = g(omegak, X, y, rho)\n",
    "            #print \"valk: %f\" %valk\n",
    "        omega0 = omegak\n",
    "        val, grad, H = g(omega0, X, y, rho)\n",
    "        dw = np.linalg.solve(H, grad)\n",
    "        norm = np.sqrt(np.sum(grad ** 2))\n",
    "        grad_norm.append(norm)\n",
    "        b = 2 * gamma\n",
    "        k = k + 1\n",
    "    return val, grad_norm, omega0, k\n",
    "\n",
    "time1 = time.time()\n",
    "val, grad_norm, sol_l2, k = Newton_armijo(objective_total, 0.3*np.ones_like(X_[1, :]), X_, y, rho, 1e-10)\n",
    "time2 = time.time()\n",
    "print val\n",
    "print sol_l2\n",
    "print \"Times of iterations: %d\" %k\n",
    "print \"Time used : %f\" %(time2 - time1)"
   ]
  },
  {
   "cell_type": "code",
   "execution_count": 124,
   "metadata": {
    "collapsed": false
   },
   "outputs": [
    {
     "data": {
      "image/png": "[encoded data removed]",
      "text/plain": [
       "<matplotlib.figure.Figure at 0x1187872d0>"
      ]
     },
     "metadata": {},
     "output_type": "display_data"
    },
    {
     "name": "stdout",
     "output_type": "stream",
     "text": [
      "1.20382424965e-07 6.87271773821e-13\n"
     ]
    }
   ],
   "source": [
    "fig = plt.figure(2)\n",
    "plt.semilogy(grad_norm)\n",
    "#plt.ylim([1e-11, 2e-1])\n",
    "plt.show()\n",
    "print grad_norm[-2], grad_norm[-1]"
   ]
  },
  {
   "cell_type": "markdown",
   "metadata": {
    "collapsed": true
   },
   "source": [
    "<p>Au fait que l'algorithme armijo est un algorithme d'approximation, si l'on choisir un trop petite valeur de paramètre d'arrêt 'tolerance', l'algorithme peut continuer à excuter beaucoup d'itérations. Donc, on a ajouter un autre paramètre 'max_iter', l'algorithme va s'arrêter après 'max_iter' d'itérations.</p>\n",
    "<p>Quant aux paramètre de l'algorithme ($a$, $b$, et $\\beta$), les choix classique, c'est: $a = 0.5, b = 2\\gamma_{k-1}, \\beta = 0.5$</p>"
   ]
  },
  {
   "cell_type": "markdown",
   "metadata": {
    "collapsed": true
   },
   "source": [
    "## 2. Régularisation pour la parcimonie"
   ]
  },
  {
   "cell_type": "markdown",
   "metadata": {
    "collapsed": true
   },
   "source": [
    "### Question 2.1"
   ]
  },
  {
   "cell_type": "markdown",
   "metadata": {
    "collapsed": true
   },
   "source": [
    "On ne peut pas utiliser la méthode de Newton pour résoudre ce problème parce que la fonction d'objectif n'est pas dérivable. "
   ]
  },
  {
   "cell_type": "markdown",
   "metadata": {
    "collapsed": true
   },
   "source": [
    "### Question 2.2"
   ]
  },
  {
   "cell_type": "markdown",
   "metadata": {
    "collapsed": true
   },
   "source": [
    "Notons $\\widetilde{\\mathbf{w}}$ , $\\tilde{\\mathbf{x_{i}}}$ et $M$ comme dans la Question 1.1, la fonction objectif $F_{2}$ est :\n",
    "$$F_{2}(\\widetilde{\\mathbf{w}}) = \\frac{1}{n}\\sum_{i=1}^{n}log(1 + exp(-y_{i}\\tilde{\\mathbf{x_{i}}}^{T}\\widetilde{\\mathbf{w}})) + \\rho\\lVert \\mathbf{w}\\rVert_{1}$$\n",
    "\n",
    "Alors $f_{2}$ et $g_{2} sont:$\n",
    "$$f_{2} = \\frac{1}{n}\\sum_{i=1}^{n}log(1 + exp(-y_{i}\\tilde{\\mathbf{x_{i}}}^{T}\\widetilde{\\mathbf{w}}))$$\n",
    "$$g_{2} = \\rho\\lVert \\mathbf{w}\\rVert_{1}$$\n",
    "\n",
    "L'opérateur proximal de $g_{2}$ est:\n",
    "$$prox_{\\rho|·|}(\\mathbf{w}) = S_{\\rho}(\\mathbf{w}),$$ \n",
    "où $S_{\\rho}(\\mathbf{w}) = (S_{\\rho}(w_{0}), S_{\\rho}(w_{1}),...,S_{\\rho}(w_{m}))$ et $S_{\\rho}(w_{i})$ est le seuillage doux: \n",
    "$$S_{\\rho}(w_{i})=\n",
    "\\begin{cases}\n",
    "w_{i} - \\rho& \\text{$w_{i} - \\rho > 0$}\\\\\n",
    "w_{i} + \\rho& \\text{$w_{i} + \\rho < 0$}\\\\\n",
    "0& \\text{$w_{i} \\in [-\\rho, \\rho]$}\n",
    "\\end{cases}$$\n",
    "\n",
    "Le gradient de $f_{2}$ est:\n",
    "$$\\bigtriangledown f_{2} = \\frac{1}{n}\\sum_{i=1}^{n}\\frac{-y_{i}\\tilde{\\mathbf{x_{i}}}}{1 + exp(y_{i}\\tilde{\\mathbf{x_{i}}}\\widetilde{\\mathbf{w}})}$$\n",
    "\n",
    "La fonction d'objective est convexe parce que c'est la somme de deux fonction convexe."
   ]
  },
  {
   "cell_type": "markdown",
   "metadata": {
    "collapsed": true
   },
   "source": [
    "### Question 2.3 "
   ]
  },
  {
   "cell_type": "markdown",
   "metadata": {},
   "source": [
    "Ci-dessous, c'est le code de l'algorithme du gradient proximal avec recherche linéaire. Ici on utilise recherche linénaire basé sur Taylor au lieu de Armijo, parce que les résultats obtenues par Armijo ne seront pas le même quand la condition initiale est différente."
   ]
  },
  {
   "cell_type": "code",
   "execution_count": 97,
   "metadata": {
    "collapsed": false
   },
   "outputs": [],
   "source": [
    "def objective_total2(omega, X, y, rho):\n",
    "    omega = omega.reshape(-1)\n",
    "    n, m = X.shape\n",
    "    \n",
    "    val = 0\n",
    "    grad = np.zeros_like(omega)\n",
    "    hessienne = np.zeros((m, m))\n",
    "    for i in range(1, n):\n",
    "        xi = X[i,:]\n",
    "        yi = y[i]\n",
    "        xomega = xi.dot(omega)\n",
    "        log = np.log(1 + np.exp(-yi*xomega))\n",
    "        val = val + log\n",
    "        exp = np.exp(yi*xomega)\n",
    "        coef = -yi / (1 + exp)\n",
    "        grad = grad + coef * xi\n",
    "    val = val/n #+ rho * np.sum(np.absolute(omega))\n",
    "    grad = grad/n\n",
    "    valF = val + rho * np.sum(np.fabs(omega))\n",
    "    return val, grad, valF"
   ]
  },
  {
   "cell_type": "code",
   "execution_count": 125,
   "metadata": {
    "collapsed": false
   },
   "outputs": [
    {
     "name": "stdout",
     "output_type": "stream",
     "text": [
      "0.692123039108\n",
      "[-0.02853739  0.          0.          0.          0.          0.          0.\n",
      "  0.          0.          0.          0.          0.          0.00186666\n",
      "  0.00772562  0.          0.          0.          0.          0.          0.\n",
      "  0.00798815  0.          0.          0.01895785  0.          0.01895785\n",
      "  0.        ]\n",
      "Times of iterations: 5\n",
      "Time used: 0.025668\n"
     ]
    }
   ],
   "source": [
    "def softThred(omega, rho):\n",
    "    somega = np.zeros_like(omega)\n",
    "    somega[omega > rho] = omega[omega > rho] - rho\n",
    "    somega[omega < -rho] = omega[omega < -rho] + rho\n",
    "    somega[0] = omega[0]\n",
    "    return somega\n",
    "\n",
    "def proximal(g, omega0, X, y, rho, tolerance = 1e-10, max_iter = 1e2):\n",
    "    a = 0.5\n",
    "    b = 1\n",
    "    \n",
    "    val, grad, valF= g(omega0, X, y, rho)\n",
    "\n",
    "    diff = tolerance + 1\n",
    "    k = 0\n",
    "    while((diff > tolerance) and (k <= max_iter)):\n",
    "        gamma = b\n",
    "        omegak = softThred(omega0 - gamma*grad, gamma*rho)\n",
    "        valk, gradk, valFk = g(omegak, X, y, rho)\n",
    "        while(valk > val+np.sum(grad*(omegak - omega0)) + np.sum((omega0 - omegak)**2)/(2*gamma)):\n",
    "            gamma = gamma * a\n",
    "            omegak = softThred(omega0 - gamma*grad, gamma*rho)\n",
    "            valk, gradk, valFk = g(omegak, X, y, rho)\n",
    "        diff = valF - valFk\n",
    "        omega0 = omegak\n",
    "        val, grad, valF = g(omega0, X, y, rho)\n",
    "        b = 2 * gamma\n",
    "        k = k + 1\n",
    "        #print \"difference\"\n",
    "        #print diff\n",
    "    return valF, omega0, k\n",
    "\n",
    "rho = 0.1\n",
    "time1 = time.time()\n",
    "val, sol_l1, k = proximal(objective_total2, 0.3*np.ones_like(X_[1, :]), X_, y, rho, 1e-10)\n",
    "time2 = time.time()\n",
    "print val\n",
    "print sol_l1\n",
    "print \"Times of iterations: %d\" %k\n",
    "print \"Time used: %f\" %(time2 - time1)"
   ]
  },
  {
   "cell_type": "markdown",
   "metadata": {
    "collapsed": true
   },
   "source": [
    "## 3. Comparaison"
   ]
  },
  {
   "cell_type": "markdown",
   "metadata": {
    "collapsed": true
   },
   "source": [
    "### Question 3.1"
   ]
  },
  {
   "cell_type": "markdown",
   "metadata": {
    "collapsed": true
   },
   "source": [
    "<p>Le premier type de régularisation (Ridge) ne met pas les coefficients à zero, on séléctionne soit tous les coefficients soit aucun des coefficients. Le deuxième type de régularisation (LASSO) peut réduire des coefficient à zéro, il fait non seulement le rétrécissement de paramètres mais aussi la sélection de coefficients. Mais si un groupe de prédicteurs sont fortement corrélés entre eux, LASSO a tendance à choisir l'un d'eux et à réduire les autres à zéro. </p>\n",
    "<p>Dans notre cas, la deuxième régularisation est plus rapide à obtenir.\n",
    "</p>"
   ]
  },
  {
   "cell_type": "markdown",
   "metadata": {},
   "source": [
    "### Question 3.2"
   ]
  },
  {
   "cell_type": "code",
   "execution_count": 118,
   "metadata": {
    "collapsed": false
   },
   "outputs": [
    {
     "name": "stdout",
     "output_type": "stream",
     "text": [
      "Score: \n",
      "Newton + line search: 0.685714\n",
      "Proximal gradient + line search: 0.595238\n",
      "Classification report: \n",
      "Newton + line search:\n",
      "             precision    recall  f1-score   support\n",
      "\n",
      "       -1.0       0.65      0.84      0.73       108\n",
      "        1.0       0.76      0.52      0.62       102\n",
      "\n",
      "avg / total       0.70      0.69      0.68       210\n",
      "\n",
      "Proximal gradient + line search:\n",
      "             precision    recall  f1-score   support\n",
      "\n",
      "       -1.0       0.56      0.97      0.71       108\n",
      "        1.0       0.87      0.20      0.32       102\n",
      "\n",
      "avg / total       0.71      0.60      0.52       210\n",
      "\n"
     ]
    }
   ],
   "source": [
    "y_pred_l2 = np.sign(X_.dot(sol_l2))\n",
    "y_pred_l1 = np.sign(X_.dot(sol_l1))\n",
    "print \"Score: \"\n",
    "print \"Newton + line search: %f\" %(np.mean(y == y_pred_l2))\n",
    "print \"Proximal gradient + line search: %f\" %(np.mean(y == y_pred_l1))\n",
    "print \"Classification report: \"\n",
    "print \"Newton + line search:\"\n",
    "print classification_report(y, y_pred_l2)\n",
    "print \"Proximal gradient + line search:\"\n",
    "print classification_report(y, y_pred_l1)"
   ]
  },
  {
   "cell_type": "markdown",
   "metadata": {},
   "source": [
    "La solution obtenue par le deuxième type de régularisation est meilleur que celle obtenue par le premier."
   ]
  }
 ],
 "metadata": {
  "kernelspec": {
   "display_name": "Python 2",
   "language": "python",
   "name": "python2"
  },
  "language_info": {
   "codemirror_mode": {
    "name": "ipython",
    "version": 2
   },
   "file_extension": ".py",
   "mimetype": "text/x-python",
   "name": "python",
   "nbconvert_exporter": "python",
   "pygments_lexer": "ipython2",
   "version": "2.7.13"
  }
 },
 "nbformat": 4,
 "nbformat_minor": 2
}
